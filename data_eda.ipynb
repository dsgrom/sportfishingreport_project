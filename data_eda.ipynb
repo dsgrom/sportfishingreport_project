{
 "cells": [
  {
   "cell_type": "code",
   "execution_count": 22,
   "metadata": {},
   "outputs": [],
   "source": [
    "#import packages and set wd to sportfishingreport_project folder\n",
    "import os\n",
    "import pandas as pd\n",
    "import matplotlib.pyplot as plt\n",
    "import seaborn as sns\n",
    "\n",
    "os.chdir(\"C:/Users/Kevin/Documents/Projects/Portfolio/sportfishingreport_project\")"
   ]
  },
  {
   "cell_type": "code",
   "execution_count": 5,
   "metadata": {},
   "outputs": [],
   "source": [
    "#read in data\n",
    "df = pd.read_csv(\"sfr_data_cleaned.csv\")"
   ]
  },
  {
   "cell_type": "code",
   "execution_count": 13,
   "metadata": {},
   "outputs": [
    {
     "data": {
      "text/html": [
       "<div>\n",
       "<style scoped>\n",
       "    .dataframe tbody tr th:only-of-type {\n",
       "        vertical-align: middle;\n",
       "    }\n",
       "\n",
       "    .dataframe tbody tr th {\n",
       "        vertical-align: top;\n",
       "    }\n",
       "\n",
       "    .dataframe thead th {\n",
       "        text-align: right;\n",
       "    }\n",
       "</style>\n",
       "<table border=\"1\" class=\"dataframe\">\n",
       "  <thead>\n",
       "    <tr style=\"text-align: right;\">\n",
       "      <th></th>\n",
       "      <th>date</th>\n",
       "      <th>location</th>\n",
       "      <th>boat_name</th>\n",
       "      <th>trip_type</th>\n",
       "      <th>num_anglers</th>\n",
       "      <th>catch</th>\n",
       "      <th>date2</th>\n",
       "      <th>anglers</th>\n",
       "      <th>released</th>\n",
       "      <th>restrictions</th>\n",
       "      <th>catch_count</th>\n",
       "      <th>catch_species</th>\n",
       "    </tr>\n",
       "  </thead>\n",
       "  <tbody>\n",
       "    <tr>\n",
       "      <td>0</td>\n",
       "      <td>2020-01-01</td>\n",
       "      <td>central coast</td>\n",
       "      <td>new horizon</td>\n",
       "      <td>full day trip</td>\n",
       "      <td>12 Anglers</td>\n",
       "      <td>23 Dungeness Crab, 215 Sanddab</td>\n",
       "      <td>2020-01-01</td>\n",
       "      <td>12</td>\n",
       "      <td>0</td>\n",
       "      <td>NaN</td>\n",
       "      <td>23.0</td>\n",
       "      <td>dungeness crab</td>\n",
       "    </tr>\n",
       "    <tr>\n",
       "      <td>1</td>\n",
       "      <td>2020-01-01</td>\n",
       "      <td>central coast</td>\n",
       "      <td>new horizon</td>\n",
       "      <td>full day trip</td>\n",
       "      <td>12 Anglers</td>\n",
       "      <td>23 Dungeness Crab, 215 Sanddab</td>\n",
       "      <td>2020-01-01</td>\n",
       "      <td>12</td>\n",
       "      <td>0</td>\n",
       "      <td>NaN</td>\n",
       "      <td>215.0</td>\n",
       "      <td>sanddab</td>\n",
       "    </tr>\n",
       "    <tr>\n",
       "      <td>2</td>\n",
       "      <td>2020-01-01</td>\n",
       "      <td>los angeles</td>\n",
       "      <td>native sun</td>\n",
       "      <td>3/4 day trip</td>\n",
       "      <td>21 Anglers</td>\n",
       "      <td>25 Sand Bass, 65 Blacksmith, 1 Halibut, 15 Scu...</td>\n",
       "      <td>2020-01-01</td>\n",
       "      <td>21</td>\n",
       "      <td>0</td>\n",
       "      <td>NaN</td>\n",
       "      <td>25.0</td>\n",
       "      <td>sand bass</td>\n",
       "    </tr>\n",
       "  </tbody>\n",
       "</table>\n",
       "</div>"
      ],
      "text/plain": [
       "         date       location    boat_name      trip_type num_anglers  \\\n",
       "0  2020-01-01  central coast  new horizon  full day trip  12 Anglers   \n",
       "1  2020-01-01  central coast  new horizon  full day trip  12 Anglers   \n",
       "2  2020-01-01    los angeles   native sun   3/4 day trip  21 Anglers   \n",
       "\n",
       "                                               catch       date2  anglers  \\\n",
       "0                     23 Dungeness Crab, 215 Sanddab  2020-01-01       12   \n",
       "1                     23 Dungeness Crab, 215 Sanddab  2020-01-01       12   \n",
       "2  25 Sand Bass, 65 Blacksmith, 1 Halibut, 15 Scu...  2020-01-01       21   \n",
       "\n",
       "   released restrictions  catch_count   catch_species  \n",
       "0         0          NaN         23.0  dungeness crab  \n",
       "1         0          NaN        215.0         sanddab  \n",
       "2         0          NaN         25.0       sand bass  "
      ]
     },
     "execution_count": 13,
     "metadata": {},
     "output_type": "execute_result"
    }
   ],
   "source": [
    "#overview of first 3 columns\n",
    "df.head(3)"
   ]
  },
  {
   "cell_type": "code",
   "execution_count": 11,
   "metadata": {},
   "outputs": [
    {
     "data": {
      "text/plain": [
       "<bound method Index.sort_values of Index(['date', 'location', 'boat_name', 'trip_type', 'num_anglers', 'catch',\n",
       "       'date2', 'anglers', 'released', 'restrictions', 'catch_count',\n",
       "       'catch_species'],\n",
       "      dtype='object')>"
      ]
     },
     "execution_count": 11,
     "metadata": {},
     "output_type": "execute_result"
    }
   ],
   "source": [
    "#column names\n",
    "df.columns"
   ]
  },
  {
   "cell_type": "code",
   "execution_count": 21,
   "metadata": {},
   "outputs": [
    {
     "data": {
      "text/plain": [
       "True"
      ]
     },
     "execution_count": 21,
     "metadata": {},
     "output_type": "execute_result"
    }
   ],
   "source": [
    "#column datatypes\n",
    "df.dtypes\n"
   ]
  },
  {
   "cell_type": "code",
   "execution_count": null,
   "metadata": {},
   "outputs": [],
   "source": [
    "#remove redundant columns like 'date' "
   ]
  },
  {
   "cell_type": "code",
   "execution_count": 12,
   "metadata": {},
   "outputs": [
    {
     "data": {
      "text/html": [
       "<div>\n",
       "<style scoped>\n",
       "    .dataframe tbody tr th:only-of-type {\n",
       "        vertical-align: middle;\n",
       "    }\n",
       "\n",
       "    .dataframe tbody tr th {\n",
       "        vertical-align: top;\n",
       "    }\n",
       "\n",
       "    .dataframe thead th {\n",
       "        text-align: right;\n",
       "    }\n",
       "</style>\n",
       "<table border=\"1\" class=\"dataframe\">\n",
       "  <thead>\n",
       "    <tr style=\"text-align: right;\">\n",
       "      <th></th>\n",
       "      <th>anglers</th>\n",
       "      <th>released</th>\n",
       "      <th>catch_count</th>\n",
       "    </tr>\n",
       "  </thead>\n",
       "  <tbody>\n",
       "    <tr>\n",
       "      <td>count</td>\n",
       "      <td>62369.000000</td>\n",
       "      <td>62369.000000</td>\n",
       "      <td>62113.000000</td>\n",
       "    </tr>\n",
       "    <tr>\n",
       "      <td>mean</td>\n",
       "      <td>21.006253</td>\n",
       "      <td>0.043499</td>\n",
       "      <td>40.636920</td>\n",
       "    </tr>\n",
       "    <tr>\n",
       "      <td>std</td>\n",
       "      <td>10.140372</td>\n",
       "      <td>0.203980</td>\n",
       "      <td>96.345954</td>\n",
       "    </tr>\n",
       "    <tr>\n",
       "      <td>min</td>\n",
       "      <td>0.000000</td>\n",
       "      <td>0.000000</td>\n",
       "      <td>0.000000</td>\n",
       "    </tr>\n",
       "    <tr>\n",
       "      <td>25%</td>\n",
       "      <td>14.000000</td>\n",
       "      <td>0.000000</td>\n",
       "      <td>3.000000</td>\n",
       "    </tr>\n",
       "    <tr>\n",
       "      <td>50%</td>\n",
       "      <td>20.000000</td>\n",
       "      <td>0.000000</td>\n",
       "      <td>12.000000</td>\n",
       "    </tr>\n",
       "    <tr>\n",
       "      <td>75%</td>\n",
       "      <td>27.000000</td>\n",
       "      <td>0.000000</td>\n",
       "      <td>46.000000</td>\n",
       "    </tr>\n",
       "    <tr>\n",
       "      <td>max</td>\n",
       "      <td>190.000000</td>\n",
       "      <td>1.000000</td>\n",
       "      <td>9500.000000</td>\n",
       "    </tr>\n",
       "  </tbody>\n",
       "</table>\n",
       "</div>"
      ],
      "text/plain": [
       "            anglers      released   catch_count\n",
       "count  62369.000000  62369.000000  62113.000000\n",
       "mean      21.006253      0.043499     40.636920\n",
       "std       10.140372      0.203980     96.345954\n",
       "min        0.000000      0.000000      0.000000\n",
       "25%       14.000000      0.000000      3.000000\n",
       "50%       20.000000      0.000000     12.000000\n",
       "75%       27.000000      0.000000     46.000000\n",
       "max      190.000000      1.000000   9500.000000"
      ]
     },
     "execution_count": 12,
     "metadata": {},
     "output_type": "execute_result"
    }
   ],
   "source": [
    "#descriptive stats of numerical columns\n",
    "df.describe()"
   ]
  },
  {
   "cell_type": "code",
   "execution_count": 14,
   "metadata": {},
   "outputs": [
    {
     "data": {
      "text/plain": [
       "san diego           18652\n",
       "los angeles         11346\n",
       "ventura coast       10081\n",
       "orange               9680\n",
       "central coast        6397\n",
       "bay area             5259\n",
       "washington coast      468\n",
       "north coast           208\n",
       "oregon coast          198\n",
       "lake tahoe             39\n",
       "delta                  38\n",
       "puget sound             2\n",
       "florida south           1\n",
       "Name: location, dtype: int64"
      ]
     },
     "execution_count": 14,
     "metadata": {},
     "output_type": "execute_result"
    }
   ],
   "source": [
    "#look at categorical columns to see unique values and # instances\n",
    "df.location.value_counts()"
   ]
  },
  {
   "cell_type": "code",
   "execution_count": null,
   "metadata": {},
   "outputs": [],
   "source": [
    "df."
   ]
  },
  {
   "cell_type": "code",
   "execution_count": null,
   "metadata": {},
   "outputs": [],
   "source": []
  },
  {
   "cell_type": "code",
   "execution_count": null,
   "metadata": {},
   "outputs": [],
   "source": []
  },
  {
   "cell_type": "code",
   "execution_count": null,
   "metadata": {},
   "outputs": [],
   "source": []
  }
 ],
 "metadata": {
  "kernelspec": {
   "display_name": "Python 3",
   "language": "python",
   "name": "python3"
  },
  "language_info": {
   "codemirror_mode": {
    "name": "ipython",
    "version": 3
   },
   "file_extension": ".py",
   "mimetype": "text/x-python",
   "name": "python",
   "nbconvert_exporter": "python",
   "pygments_lexer": "ipython3",
   "version": "3.7.4"
  }
 },
 "nbformat": 4,
 "nbformat_minor": 2
}
